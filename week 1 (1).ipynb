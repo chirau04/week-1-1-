{
 "cells": [
  {
   "cell_type": "code",
   "execution_count": 1,
   "id": "951f258e-1b6d-45a1-acdf-718f164fbda1",
   "metadata": {},
   "outputs": [],
   "source": [
    "c = \"chirau\""
   ]
  },
  {
   "cell_type": "code",
   "execution_count": 2,
   "id": "3dc550e1-89bb-4012-a85a-02dab2e42e7e",
   "metadata": {},
   "outputs": [
    {
     "data": {
      "text/plain": [
       "str"
      ]
     },
     "execution_count": 2,
     "metadata": {},
     "output_type": "execute_result"
    }
   ],
   "source": [
    "type(c)"
   ]
  },
  {
   "cell_type": "code",
   "execution_count": 7,
   "id": "30ed1a28-027f-4a0e-a577-89c43454374c",
   "metadata": {},
   "outputs": [],
   "source": [
    "l = [1,2,3,4,5,6, \"chirau\", 3+5j, True, 34.56 ]"
   ]
  },
  {
   "cell_type": "code",
   "execution_count": 8,
   "id": "420cedad-3f56-4466-8e0c-9afe56d7682d",
   "metadata": {},
   "outputs": [
    {
     "data": {
      "text/plain": [
       "list"
      ]
     },
     "execution_count": 8,
     "metadata": {},
     "output_type": "execute_result"
    }
   ],
   "source": [
    "type(l)"
   ]
  },
  {
   "cell_type": "code",
   "execution_count": 9,
   "id": "2ff28398-79ee-454c-8d9c-bbdb91545ae8",
   "metadata": {},
   "outputs": [],
   "source": [
    "b = -34.56"
   ]
  },
  {
   "cell_type": "code",
   "execution_count": 10,
   "id": "b2c6c423-3fb1-4cd0-84a4-95c3efe44b95",
   "metadata": {},
   "outputs": [
    {
     "data": {
      "text/plain": [
       "float"
      ]
     },
     "execution_count": 10,
     "metadata": {},
     "output_type": "execute_result"
    }
   ],
   "source": [
    "type(b)"
   ]
  },
  {
   "cell_type": "code",
   "execution_count": 11,
   "id": "3a496643-29b6-4997-b8e8-193bea600eac",
   "metadata": {},
   "outputs": [],
   "source": [
    "t = (10,20,30,40,50)"
   ]
  },
  {
   "cell_type": "code",
   "execution_count": 12,
   "id": "b2cfbc14-b9b2-43bb-bf87-d877e095b3cf",
   "metadata": {},
   "outputs": [
    {
     "data": {
      "text/plain": [
       "tuple"
      ]
     },
     "execution_count": 12,
     "metadata": {},
     "output_type": "execute_result"
    }
   ],
   "source": [
    "type(t)"
   ]
  },
  {
   "cell_type": "code",
   "execution_count": 13,
   "id": "6d016173-86c5-40c9-b788-ba1261437263",
   "metadata": {},
   "outputs": [],
   "source": [
    "var1 = 'chirau'"
   ]
  },
  {
   "cell_type": "code",
   "execution_count": 14,
   "id": "a73045cf-946d-48c6-b934-4d2d4674394b",
   "metadata": {},
   "outputs": [
    {
     "data": {
      "text/plain": [
       "str"
      ]
     },
     "execution_count": 14,
     "metadata": {},
     "output_type": "execute_result"
    }
   ],
   "source": [
    "type(var1)"
   ]
  },
  {
   "cell_type": "code",
   "execution_count": 15,
   "id": "35792a36-3f49-41d1-a4db-c3e66013bb83",
   "metadata": {},
   "outputs": [],
   "source": [
    "var2 = ['chirau' 'aman' 'himanshu']"
   ]
  },
  {
   "cell_type": "code",
   "execution_count": 16,
   "id": "48d724f2-26f8-4f03-8b70-35400c57b62f",
   "metadata": {},
   "outputs": [
    {
     "data": {
      "text/plain": [
       "list"
      ]
     },
     "execution_count": 16,
     "metadata": {},
     "output_type": "execute_result"
    }
   ],
   "source": [
    "type(var2)"
   ]
  },
  {
   "cell_type": "code",
   "execution_count": 17,
   "id": "351320d5-ca60-42b0-8b0d-c26c78c7c8e0",
   "metadata": {},
   "outputs": [],
   "source": [
    "var3 = ['chirau', 'aman', 'himanshu']"
   ]
  },
  {
   "cell_type": "code",
   "execution_count": 18,
   "id": "965c5652-2963-407a-8b33-da14918ba7c7",
   "metadata": {},
   "outputs": [
    {
     "data": {
      "text/plain": [
       "list"
      ]
     },
     "execution_count": 18,
     "metadata": {},
     "output_type": "execute_result"
    }
   ],
   "source": [
    "type(var3)"
   ]
  },
  {
   "cell_type": "code",
   "execution_count": 19,
   "id": "000269e7-49b0-431d-be76-d809b6431525",
   "metadata": {},
   "outputs": [],
   "source": [
    "var4 = 1"
   ]
  },
  {
   "cell_type": "code",
   "execution_count": 20,
   "id": "96936843-57a8-492a-9617-548e82e765d3",
   "metadata": {},
   "outputs": [
    {
     "data": {
      "text/plain": [
       "int"
      ]
     },
     "execution_count": 20,
     "metadata": {},
     "output_type": "execute_result"
    }
   ],
   "source": [
    "type(var4)"
   ]
  },
  {
   "cell_type": "code",
   "execution_count": 21,
   "id": "8282a285-b36d-4305-8931-0f491b9c6490",
   "metadata": {},
   "outputs": [
    {
     "data": {
      "text/plain": [
       "2.0"
      ]
     },
     "execution_count": 21,
     "metadata": {},
     "output_type": "execute_result"
    }
   ],
   "source": [
    "8/4"
   ]
  },
  {
   "cell_type": "code",
   "execution_count": 22,
   "id": "f6c962cc-206d-4f31-ab2d-e0b14e106517",
   "metadata": {},
   "outputs": [
    {
     "data": {
      "text/plain": [
       "1"
      ]
     },
     "execution_count": 22,
     "metadata": {},
     "output_type": "execute_result"
    }
   ],
   "source": [
    "1%4"
   ]
  },
  {
   "cell_type": "code",
   "execution_count": 23,
   "id": "249ec4a7-b5e2-416c-8b6f-66ab171cc758",
   "metadata": {},
   "outputs": [
    {
     "data": {
      "text/plain": [
       "1"
      ]
     },
     "execution_count": 23,
     "metadata": {},
     "output_type": "execute_result"
    }
   ],
   "source": [
    "5//4"
   ]
  },
  {
   "cell_type": "code",
   "execution_count": 24,
   "id": "c71c22ce-e0e8-4837-bbb7-e9e07d258a5c",
   "metadata": {},
   "outputs": [
    {
     "data": {
      "text/plain": [
       "16"
      ]
     },
     "execution_count": 24,
     "metadata": {},
     "output_type": "execute_result"
    }
   ],
   "source": [
    "2**4"
   ]
  },
  {
   "cell_type": "code",
   "execution_count": 26,
   "id": "87ff5f17-7cfc-482f-9289-f0a66ef51213",
   "metadata": {},
   "outputs": [
    {
     "name": "stdout",
     "output_type": "stream",
     "text": [
      "c\n",
      "h\n",
      "i\n",
      "r\n",
      "a\n",
      "u\n"
     ]
    }
   ],
   "source": [
    "c = \"chirau\"\n",
    "for i in c :\n",
    "    print(i)"
   ]
  },
  {
   "cell_type": "code",
   "execution_count": 27,
   "id": "9353c6cb-3c65-472a-9d30-3ee5a75d2d3f",
   "metadata": {},
   "outputs": [
    {
     "name": "stdout",
     "output_type": "stream",
     "text": [
      "<class 'int'>\n",
      "<class 'int'>\n",
      "<class 'int'>\n",
      "<class 'int'>\n",
      "<class 'int'>\n",
      "<class 'int'>\n",
      "<class 'str'>\n",
      "<class 'str'>\n",
      "<class 'float'>\n",
      "<class 'bool'>\n"
     ]
    }
   ],
   "source": [
    "l = [1,2,3,4,5,6, \"pwskills\", \"chirau\", 23.45, True]\n",
    "for i in l :\n",
    "    print(type(i))"
   ]
  },
  {
   "cell_type": "code",
   "execution_count": 46,
   "id": "10181122-3957-40d7-aff4-6628594472f0",
   "metadata": {},
   "outputs": [
    {
     "name": "stdout",
     "output_type": "stream",
     "text": [
      "1\n",
      "2\n",
      "3\n",
      "4\n"
     ]
    }
   ],
   "source": [
    "n = 4\n",
    "i = 1\n",
    "while n >=i :\n",
    "    print (i)\n",
    "    i = i+1"
   ]
  },
  {
   "cell_type": "code",
   "execution_count": 53,
   "id": "f9739988-31bd-4e01-a900-b8bfdb454a33",
   "metadata": {},
   "outputs": [
    {
     "name": "stdout",
     "output_type": "stream",
     "text": [
      "1\n",
      "2\n",
      "3\n"
     ]
    }
   ],
   "source": [
    "n = 4\n",
    "i = 1\n",
    "while i<n :\n",
    "    print(i)\n",
    "    i = i+1\n",
    "    "
   ]
  },
  {
   "cell_type": "code",
   "execution_count": 54,
   "id": "f06eb094-e5e1-441e-9488-dc8e4d806fe8",
   "metadata": {},
   "outputs": [],
   "source": [
    "l = [1,2,3,4,'chirau',3+7j,True,34.56]"
   ]
  },
  {
   "cell_type": "code",
   "execution_count": 56,
   "id": "d7592ede-725d-40d8-ab8a-94fecd9be3a0",
   "metadata": {},
   "outputs": [],
   "source": [
    "l[1] = 10"
   ]
  },
  {
   "cell_type": "code",
   "execution_count": 57,
   "id": "9d7b96c2-0a72-43ef-a735-bec8ab395d93",
   "metadata": {},
   "outputs": [
    {
     "data": {
      "text/plain": [
       "[1, 10, 3, 4, 'chirau', (3+7j), True, 34.56]"
      ]
     },
     "execution_count": 57,
     "metadata": {},
     "output_type": "execute_result"
    }
   ],
   "source": [
    "l"
   ]
  },
  {
   "cell_type": "code",
   "execution_count": 58,
   "id": "bbb45b48-b36e-4949-9834-f34328e20e92",
   "metadata": {},
   "outputs": [],
   "source": [
    "c = 'chirau'"
   ]
  },
  {
   "cell_type": "code",
   "execution_count": 59,
   "id": "38098500-d9b8-4f53-898f-f7e8e8987124",
   "metadata": {},
   "outputs": [
    {
     "ename": "TypeError",
     "evalue": "'str' object does not support item assignment",
     "output_type": "error",
     "traceback": [
      "\u001b[0;31m---------------------------------------------------------------------------\u001b[0m",
      "\u001b[0;31mTypeError\u001b[0m                                 Traceback (most recent call last)",
      "Cell \u001b[0;32mIn[59], line 1\u001b[0m\n\u001b[0;32m----> 1\u001b[0m \u001b[43mc\u001b[49m\u001b[43m[\u001b[49m\u001b[38;5;241;43m1\u001b[39;49m\u001b[43m]\u001b[49m \u001b[38;5;241m=\u001b[39m \u001b[38;5;124m'\u001b[39m\u001b[38;5;124ma\u001b[39m\u001b[38;5;124m'\u001b[39m\n",
      "\u001b[0;31mTypeError\u001b[0m: 'str' object does not support item assignment"
     ]
    }
   ],
   "source": [
    "c[1] = 'a'"
   ]
  },
  {
   "cell_type": "code",
   "execution_count": null,
   "id": "c5a4db94-e171-44cc-b315-3e0d912d213c",
   "metadata": {},
   "outputs": [],
   "source": [
    "lists supports mutability"
   ]
  },
  {
   "cell_type": "code",
   "execution_count": null,
   "id": "365087e1-bfb2-48bd-b589-4442d6fd27a8",
   "metadata": {},
   "outputs": [],
   "source": [
    "string does not supports"
   ]
  }
 ],
 "metadata": {
  "kernelspec": {
   "display_name": "Python 3 (ipykernel)",
   "language": "python",
   "name": "python3"
  },
  "language_info": {
   "codemirror_mode": {
    "name": "ipython",
    "version": 3
   },
   "file_extension": ".py",
   "mimetype": "text/x-python",
   "name": "python",
   "nbconvert_exporter": "python",
   "pygments_lexer": "ipython3",
   "version": "3.10.8"
  }
 },
 "nbformat": 4,
 "nbformat_minor": 5
}
